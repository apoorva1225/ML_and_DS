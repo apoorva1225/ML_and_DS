{
 "cells": [
  {
   "cell_type": "code",
   "execution_count": 4,
   "metadata": {},
   "outputs": [],
   "source": [
    "import pandas as pd\n",
    "from sklearn import tree\n",
    "\n",
    "#import dataset\n",
    "ds = pd.read_csv(\"music.csv\")\n",
    "X = ds.drop(columns=['genre'])\n",
    "y = ds['genre']\n",
    "#creating model\n",
    "music_model = tree.DecisionTreeClassifier()\n",
    "#training it\n",
    "music_model.fit(X,y)\n",
    "\n",
    "# for visualization of decision tree\n",
    "tree.export_graphviz(music_model,\n",
    "                    out_file = \"music-recommender.dot\",\n",
    "                    feature_names=['age','gender'],\n",
    "                    class_names=sorted(y.unique()),\n",
    "                    label='all',\n",
    "                    rounded=True,\n",
    "                    filled= True\n",
    "                    )"
   ]
  },
  {
   "cell_type": "code",
   "execution_count": 5,
   "metadata": {},
   "outputs": [
    {
     "data": {
      "text/plain": [
       "array(['HipHop', 'Dance'], dtype=object)"
      ]
     },
     "execution_count": 5,
     "metadata": {},
     "output_type": "execute_result"
    }
   ],
   "source": [
    "#model presistence\n",
    "import pandas as pd\n",
    "from sklearn.tree import DecisionTreeClassifier\n",
    "from sklearn.externals import joblib\n",
    "\n",
    "# #import dataset\n",
    "# data_set = pd.read_csv(\"music.csv\")\n",
    "# X = data_set.drop(columns = ['genre'])\n",
    "# y = data_set['genre']\n",
    "\n",
    "# #creating model\n",
    "# model = DecisionTreeClassifier()\n",
    "# #training it\n",
    "# model.fit(X,y)\n",
    "\n",
    "# saving our trained model\n",
    "# joblib.dump(model, \"music-recommender.joblib\")\n",
    "\n",
    "trained_model = joblib.load(\"music-recommender.joblib\")\n",
    "m_predictions = trained_model.predict([[24,1],[22,0]])\n",
    "m_predictions"
   ]
  },
  {
   "cell_type": "code",
   "execution_count": 8,
   "metadata": {},
   "outputs": [
    {
     "data": {
      "text/plain": [
       "1.0"
      ]
     },
     "execution_count": 8,
     "metadata": {},
     "output_type": "execute_result"
    }
   ],
   "source": [
    "import pandas as pd\n",
    "from sklearn.tree import DecisionTreeClassifier\n",
    "from sklearn.model_selection import train_test_split\n",
    "from sklearn.metrics import accuracy_score\n",
    "from sklearn.externals import joblib\n",
    "\n",
    "#import dataset\n",
    "music_data = pd.read_csv(\"music.csv\")\n",
    "X = music_data.drop(columns = [\"genre\"])\n",
    "y = music_data['genre']\n",
    "\n",
    "#input_training_set, input_test_set, output_training_set, output_test_set\n",
    "X_train, X_test, y_train, y_test = train_test_split(X, y, test_size = 0.2)\n",
    "\n",
    "#create model\n",
    "model = DecisionTreeClassifier()\n",
    "#train it\n",
    "model.fit(X_train,y_train)\n",
    "#ask it to make predictions\n",
    "predictions = model.predict(X_test)\n",
    "score = accuracy_score(y_test,predictions)\n",
    "score"
   ]
  }
 ],
 "metadata": {
  "kernelspec": {
   "display_name": "Python 3",
   "language": "python",
   "name": "python3"
  },
  "language_info": {
   "codemirror_mode": {
    "name": "ipython",
    "version": 3
   },
   "file_extension": ".py",
   "mimetype": "text/x-python",
   "name": "python",
   "nbconvert_exporter": "python",
   "pygments_lexer": "ipython3",
   "version": "3.7.3"
  }
 },
 "nbformat": 4,
 "nbformat_minor": 2
}
