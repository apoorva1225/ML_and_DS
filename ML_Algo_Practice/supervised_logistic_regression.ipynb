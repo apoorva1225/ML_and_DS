{
 "cells": [
  {
   "cell_type": "code",
   "execution_count": 2,
   "metadata": {},
   "outputs": [
    {
     "name": "stdout",
     "output_type": "stream",
     "text": [
      "Shape of training dataset:  (712, 25)\n",
      "Shape of testing dataset:  (179, 25)\n",
      "\n",
      "Coefficients of trained model:  [[-0.03092771  0.0015481   0.89622697  0.06137508 -1.00592981  1.25419995\n",
      "  -1.30252769  1.05848095  0.9896709   0.74258025 -1.03750869 -0.7676413\n",
      "  -0.42457872 -0.60933114  0.31409757  0.69532872  0.09004314  0.30114475\n",
      "  -0.69551054 -0.44316242 -0.31026898  0.16940163  0.15518113 -0.3729105 ]]\n",
      "\n",
      "Intercept of trained model:  [-0.04832775]\n",
      "\n",
      "'Survived' prediction on training dataset:  [0 1 1 0 0 0 0 0 0 0 0 1 0 0 0 0 0 0 0 1 0 0 0 0 0 0 0 0 0 1 1 0 0 0 0 0 1\n",
      " 1 0 0 0 1 0 1 1 1 1 0 0 0 1 0 0 1 0 0 0 0 1 0 1 1 1 1 0 0 0 0 0 0 0 0 0 0\n",
      " 0 1 1 0 0 1 0 0 0 1 1 0 0 1 1 0 1 0 0 0 0 1 0 1 1 0 0 1 0 1 1 1 0 1 1 0 1\n",
      " 0 0 0 0 1 0 0 1 1 1 0 0 1 0 0 0 1 0 0 1 1 0 0 1 0 0 0 0 0 0 1 0 1 0 1 1 0\n",
      " 0 0 1 1 0 0 0 1 0 1 0 0 1 1 0 1 1 0 1 0 0 0 0 0 0 0 0 0 0 0 0 0 0 1 0 0 1\n",
      " 0 1 1 1 1 0 0 1 0 1 0 0 1 1 1 1 1 0 0 0 1 1 1 0 0 0 0 1 0 0 0 0 0 0 0 0 0\n",
      " 0 0 0 0 0 0 1 0 1 0 1 0 0 1 0 1 0 0 0 1 0 1 0 1 1 0 0 0 1 1 0 1 0 0 1 1 1\n",
      " 0 0 1 0 1 1 1 0 1 0 0 0 1 0 0 1 1 1 0 0 0 0 0 0 0 1 1 0 0 0 0 0 0 0 1 0 0\n",
      " 0 0 1 1 0 1 1 0 1 0 1 0 0 0 0 0 1 0 1 1 1 0 0 0 1 0 1 0 0 0 1 0 0 1 0 1 1\n",
      " 1 0 0 1 1 0 1 1 0 0 0 0 0 1 0 1 1 0 1 0 0 1 1 1 1 0 0 0 0 1 0 0 0 0 0 0 0\n",
      " 0 0 0 0 0 1 0 0 1 0 0 1 0 0 1 0 0 1 0 0 0 0 0 1 0 0 0 1 1 1 0 1 0 1 1 0 1\n",
      " 0 1 1 0 0 0 0 0 0 0 0 0 1 0 0 0 0 0 1 0 0 0 0 1 0 0 1 1 1 1 0 0 0 0 1 0 0\n",
      " 0 1 0 0 0 0 0 0 1 0 0 1 1 0 1 1 1 0 0 0 0 0 0 1 0 0 1 1 1 0 1 0 0 0 0 0 0\n",
      " 0 0 1 0 0 0 0 0 0 1 1 0 1 1 0 1 1 0 1 0 0 1 0 0 0 0 0 0 1 0 1 0 0 0 1 0 1\n",
      " 1 0 0 0 0 1 0 0 0 1 0 1 0 1 1 1 0 0 0 0 0 0 1 1 1 0 1 1 1 0 1 1 0 0 0 0 1\n",
      " 0 1 0 1 1 0 0 1 0 0 1 0 1 1 0 1 0 1 0 1 0 0 0 0 1 1 0 1 0 0 1 1 0 1 1 0 0\n",
      " 1 0 1 0 0 1 0 1 0 1 0 1 1 0 0 1 0 1 1 0 1 0 0 0 1 0 1 0 0 0 1 0 0 0 0 0 1\n",
      " 0 0 0 0 0 0 1 1 0 0 1 1 0 0 0 1 1 0 0 0 0 0 1 1 1 0 0 0 0 0 0 1 0 1 0 0 0\n",
      " 0 0 0 0 1 0 0 1 0 0 1 0 0 0 0 1 1 0 0 0 0 0 0 0 0 0 1 0 0 0 1 0 0 1 0 1 0\n",
      " 1 0 1 1 1 0 0 0 0]\n",
      "\n",
      " accuracy score on train dataset:  0.8089887640449438\n",
      "\n",
      "'Survived' prediction on testing dataset:  [0 0 0 1 1 0 0 0 0 0 0 1 1 0 0 0 0 0 1 0 0 0 1 0 0 0 0 1 0 1 1 0 1 0 1 0 1\n",
      " 0 0 0 0 0 0 0 0 0 0 0 1 0 0 0 0 0 0 1 0 1 1 0 0 1 1 1 0 0 0 0 0 0 0 0 0 0\n",
      " 1 0 0 0 1 0 0 0 0 1 1 0 1 1 0 1 0 0 0 0 1 1 1 0 1 0 0 0 0 0 1 1 0 1 1 1 1\n",
      " 0 1 0 0 0 0 1 1 1 1 0 1 1 0 1 1 0 0 0 1 0 0 1 1 1 0 1 1 0 1 0 0 0 0 0 0 0\n",
      " 0 0 0 0 1 0 0 1 0 0 0 0 0 1 1 0 0 1 0 0 1 0 1 1 0 1 0 0 0 0 1]\n",
      "\n",
      " accuracy score on test dataset:  0.8212290502793296\n"
     ]
    },
    {
     "name": "stderr",
     "output_type": "stream",
     "text": [
      "/home/apoorva/anaconda3/lib/python3.7/site-packages/sklearn/linear_model/logistic.py:432: FutureWarning: Default solver will be changed to 'lbfgs' in 0.22. Specify a solver to silence this warning.\n",
      "  FutureWarning)\n"
     ]
    }
   ],
   "source": [
    "import pandas as pd\n",
    "from sklearn.linear_model import LogisticRegression\n",
    "from sklearn.metrics import accuracy_score\n",
    "\n",
    "#reading datasets\n",
    "train_data = pd.read_csv(\"train_dataset_logistic_reg.csv\")\n",
    "test_data = pd.read_csv(\"test_dataset_logistic_reg.csv\")\n",
    "\n",
    "#shape of dataset\n",
    "print(\"Shape of training dataset: \", train_data.shape)\n",
    "print(\"Shape of testing dataset: \", test_data.shape)\n",
    "\n",
    "#here we need to predict the missing target variable in test dataset\n",
    "\n",
    "#segregating datasets into input(X)(independent) and output(Y)(target) datasets\n",
    "#our target variable here is Survived\n",
    "\n",
    "#training dataset\n",
    "x_train = train_data.drop(columns=['Survived'], axis = 1)\n",
    "y_train = train_data['Survived']\n",
    "\n",
    "#testing dataset\n",
    "x_test = test_data.drop(columns =['Survived'], axis =1)\n",
    "y_test = test_data['Survived']\n",
    "\n",
    "#creating logistic regression model\n",
    "model = LogisticRegression()\n",
    "\n",
    "#training it\n",
    "model.fit(x_train,y_train)\n",
    "\n",
    "#coefficients of trained model\n",
    "print(\"\\nCoefficients of trained model: \", model.coef_)\n",
    "\n",
    "#intercept of trained model\n",
    "print(\"\\nIntercept of trained model: \", model.intercept_)\n",
    "\n",
    "#predict target on training dataset \n",
    "train_predictions = model.predict(x_train)\n",
    "print(\"\\n'Survived' prediction on training dataset: \", train_predictions)\n",
    "\n",
    "#accuracy score on train dataset\n",
    "accuracy_train = accuracy_score(y_train, train_predictions)\n",
    "print(\"\\n accuracy score on train dataset: \", accuracy_train)\n",
    "\n",
    "#predict target on testing dataset \n",
    "test_predictions = model.predict(x_test)\n",
    "print(\"\\n'Survived' prediction on testing dataset: \", test_predictions)\n",
    "\n",
    "#accuracy score on test dataset\n",
    "accuracy_test = accuracy_score(y_test, test_predictions)\n",
    "print(\"\\n accuracy score on test dataset: \", accuracy_test)"
   ]
  },
  {
   "cell_type": "code",
   "execution_count": null,
   "metadata": {},
   "outputs": [],
   "source": []
  }
 ],
 "metadata": {
  "kernelspec": {
   "display_name": "Python 3",
   "language": "python",
   "name": "python3"
  },
  "language_info": {
   "codemirror_mode": {
    "name": "ipython",
    "version": 3
   },
   "file_extension": ".py",
   "mimetype": "text/x-python",
   "name": "python",
   "nbconvert_exporter": "python",
   "pygments_lexer": "ipython3",
   "version": "3.7.3"
  }
 },
 "nbformat": 4,
 "nbformat_minor": 2
}
