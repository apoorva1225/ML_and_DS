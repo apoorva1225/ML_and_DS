{
 "cells": [
  {
   "cell_type": "code",
   "execution_count": 2,
   "metadata": {},
   "outputs": [
    {
     "name": "stdout",
     "output_type": "stream",
     "text": [
      "Shape of training dataset:  (712, 25)\n",
      "Shape of testing dataset:  (179, 25)\n"
     ]
    },
    {
     "ename": "TypeError",
     "evalue": "fit() missing 1 required positional argument: 'y'",
     "output_type": "error",
     "traceback": [
      "\u001b[0;31m---------------------------------------------------------------------------\u001b[0m",
      "\u001b[0;31mTypeError\u001b[0m                                 Traceback (most recent call last)",
      "\u001b[0;32m<ipython-input-2-d02b6e98b94e>\u001b[0m in \u001b[0;36m<module>\u001b[0;34m\u001b[0m\n\u001b[1;32m     28\u001b[0m \u001b[0;34m\u001b[0m\u001b[0m\n\u001b[1;32m     29\u001b[0m \u001b[0;31m#training it\u001b[0m\u001b[0;34m\u001b[0m\u001b[0;34m\u001b[0m\u001b[0;34m\u001b[0m\u001b[0m\n\u001b[0;32m---> 30\u001b[0;31m \u001b[0mmodel\u001b[0m\u001b[0;34m.\u001b[0m\u001b[0mfit\u001b[0m\u001b[0;34m(\u001b[0m\u001b[0mx_train\u001b[0m\u001b[0;34m,\u001b[0m \u001b[0my_train\u001b[0m\u001b[0;34m)\u001b[0m\u001b[0;34m\u001b[0m\u001b[0;34m\u001b[0m\u001b[0m\n\u001b[0m\u001b[1;32m     31\u001b[0m \u001b[0;34m\u001b[0m\u001b[0m\n\u001b[1;32m     32\u001b[0m \u001b[0;31m#predict target on train dataset\u001b[0m\u001b[0;34m\u001b[0m\u001b[0;34m\u001b[0m\u001b[0;34m\u001b[0m\u001b[0m\n",
      "\u001b[0;31mTypeError\u001b[0m: fit() missing 1 required positional argument: 'y'"
     ]
    }
   ],
   "source": [
    "import pandas as pd\n",
    "from sklearn.naive_bayes import GaussianNB\n",
    "from sklearn.metrics import accuracy_score\n",
    "\n",
    "#reading datasets\n",
    "train_data = pd.read_csv(\"train_dataset_naive_bayes.csv\")\n",
    "test_data = pd.read_csv(\"test_dataset_naive_bayes.csv\")\n",
    "\n",
    "#shape of dataset\n",
    "print(\"Shape of training dataset: \", train_data.shape)\n",
    "print(\"Shape of testing dataset: \", test_data.shape)\n",
    "\n",
    "#predict the missing target variable\n",
    "#target variable - Survived\n",
    "\n",
    "#segragating input(x) dataset and output dataset\n",
    "\n",
    "#training dataset\n",
    "x_train = train_data.drop(columns = ['Survived'], axis = 1)\n",
    "y_train = train_data['Survived']\n",
    "\n",
    "#testing dataset\n",
    "x_test = test_data.drop(columns = ['Survived'], axis =1)\n",
    "y_test = test_data['Survived']\n",
    "\n",
    "#creating naive bayes model \n",
    "model = GaussianNB\n",
    "\n",
    "#training it\n",
    "model.fit(x_train, y_train)\n",
    "\n",
    "#predict target on train dataset\n",
    "train_predictions = model.predict(x_train)\n",
    "print(\"\\n'Survived' prediction on training dataset: \", train_predictions)\n",
    "\n",
    "#accuracy score on train dataset\n",
    "accuracy_train = accuracy_score(y_train, train_predictions)\n",
    "print(\"\\nAccuracy score on training dataset: \",accuracy_train)\n",
    "\n",
    "#predict target on test dataset\n",
    "test_predictions = model.predict(x_test)\n",
    "print(\"\\n'Survived' prediction on testing dataset: \", test_predictions)\n",
    "\n",
    "#accuracy score on test dataset\n",
    "accuracy_test = accuracy_score(y_test, test_predictions)\n",
    "print(\"\\nAccuracy score on testing dataset: \", accuracy_test)"
   ]
  },
  {
   "cell_type": "code",
   "execution_count": null,
   "metadata": {},
   "outputs": [],
   "source": []
  }
 ],
 "metadata": {
  "kernelspec": {
   "display_name": "Python 3",
   "language": "python",
   "name": "python3"
  },
  "language_info": {
   "codemirror_mode": {
    "name": "ipython",
    "version": 3
   },
   "file_extension": ".py",
   "mimetype": "text/x-python",
   "name": "python",
   "nbconvert_exporter": "python",
   "pygments_lexer": "ipython3",
   "version": "3.7.3"
  }
 },
 "nbformat": 4,
 "nbformat_minor": 2
}
