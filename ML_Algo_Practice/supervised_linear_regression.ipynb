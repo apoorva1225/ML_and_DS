{
 "cells": [
  {
   "cell_type": "code",
   "execution_count": 2,
   "metadata": {},
   "outputs": [
    {
     "name": "stdout",
     "output_type": "stream",
     "text": [
      "Shape of training dataset:  (6818, 36)\n",
      "Shape of testing dataset:  (1705, 36)\n",
      "\n",
      "Coefficients of trained model:  [ 6.22922159e-01 -3.05543741e+02  1.54753664e+01  3.28472830e+01\n",
      " -9.74873370e+00 -2.41795130e+01  4.56644413e+00  1.12508091e+02\n",
      " -8.31462886e+01 -4.07559798e+00  3.42962529e+01 -3.52111189e+01\n",
      "  3.01171812e+01 -7.78837887e+01 -5.81991352e+01  3.35999951e+01\n",
      " -3.45385698e+01 -1.59912918e+01 -8.37658470e+01  9.42301806e+00\n",
      " -6.41750596e+01  3.09361889e+02 -4.29785631e+01 -7.42604600e+01\n",
      "  7.42810959e+01  7.90650333e+02  1.49967901e+02  1.68544650e+02\n",
      "  1.23282081e+02  3.94826434e+01 -1.62764724e+02 -1.58933750e+03\n",
      " -6.28256479e+01 -4.02668500e+02  2.05483165e+03]\n",
      "\n",
      "Intercept of trained model:  -65678.96259572908\n",
      "\n",
      "Item_Outlet_Sales prediction on training dataset:  [1027.24684892  942.24471157 1873.35514454 ... 2885.32100831 -413.6349489\n",
      " 1745.5523439 ]\n",
      "\n",
      "RMSE on train dataset:  1128.3872104647512\n",
      "\n",
      "Item_Outlet_Sales prediction on testing dataset:  [4120.04827319 1709.13115544 2950.66703967 ... 1058.86022245 3090.02134314\n",
      " 3152.15308358]\n",
      "\n",
      "RMSE on test dataset:  1124.329853859143\n"
     ]
    }
   ],
   "source": [
    "import pandas as pd\n",
    "from sklearn.linear_model import LinearRegression\n",
    "from sklearn.metrics import mean_squared_error\n",
    "\n",
    "#reading datasets\n",
    "train_data = pd.read_csv(\"train_dataset_linear_reg.csv\")\n",
    "test_data = pd.read_csv(\"test_dataset_linear_reg.csv\")\n",
    "\n",
    "#shape of dataset\n",
    "print(\"Shape of training dataset: \", train_data.shape)\n",
    "print(\"Shape of testing dataset: \", test_data.shape)\n",
    "\n",
    "#segregating datasets into input(X) and output(Y) datasets\n",
    "#our target variable here is Item_Outlet_Sales(dependant variable)\n",
    "\n",
    "#training datasets\n",
    "x_train = train_data.drop(columns = ['Item_Outlet_Sales'], axis = 1)\n",
    "y_train = train_data['Item_Outlet_Sales']\n",
    "\n",
    "#testing datasets\n",
    "x_test = test_data.drop(columns=['Item_Outlet_Sales'], axis = 1)\n",
    "y_test = test_data['Item_Outlet_Sales']\n",
    "\n",
    "#creating linear regression model\n",
    "model = LinearRegression()\n",
    "\n",
    "#training it\n",
    "model.fit(x_train,y_train)\n",
    "\n",
    "#coefficients of trained model\n",
    "print(\"\\nCoefficients of trained model: \", model.coef_)\n",
    "\n",
    "#intercept of trained model\n",
    "print(\"\\nIntercept of trained model: \", model.intercept_)\n",
    "\n",
    "#predict target on training dataest\n",
    "train_predictions = model.predict(x_train)\n",
    "print(\"\\nItem_Outlet_Sales prediction on training dataset: \", train_predictions)\n",
    "\n",
    "#root mean sqaured error on training dataset\n",
    "rmse_train = mean_squared_error(y_train, train_predictions)**(0.5)\n",
    "print(\"\\nRMSE on train dataset: \", rmse_train)\n",
    "\n",
    "#predict target on testing dataest\n",
    "test_predictions = model.predict(x_test)\n",
    "print(\"\\nItem_Outlet_Sales prediction on testing dataset: \", test_predictions)\n",
    "\n",
    "#root mean squared error on testing dataset\n",
    "rmse_test = mean_squared_error(y_test, test_predictions)**(0.5)\n",
    "print(\"\\nRMSE on test dataset: \", rmse_test)\n"
   ]
  },
  {
   "cell_type": "code",
   "execution_count": null,
   "metadata": {},
   "outputs": [],
   "source": []
  }
 ],
 "metadata": {
  "kernelspec": {
   "display_name": "Python 3",
   "language": "python",
   "name": "python3"
  },
  "language_info": {
   "codemirror_mode": {
    "name": "ipython",
    "version": 3
   },
   "file_extension": ".py",
   "mimetype": "text/x-python",
   "name": "python",
   "nbconvert_exporter": "python",
   "pygments_lexer": "ipython3",
   "version": "3.7.3"
  }
 },
 "nbformat": 4,
 "nbformat_minor": 2
}
